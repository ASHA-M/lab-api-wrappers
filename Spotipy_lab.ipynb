{
 "cells": [
  {
   "cell_type": "code",
   "execution_count": 1,
   "id": "714cbe1a",
   "metadata": {},
   "outputs": [],
   "source": [
    "import pandas as pd\n",
    "import numpy as np\n",
    "import requests\n",
    "from bs4 import BeautifulSoup\n",
    "import random\n",
    "import spotipy\n",
    "from spotipy.oauth2 import SpotifyClientCredentials\n",
    "from time import sleep\n",
    "from sklearn.preprocessing import StandardScaler\n",
    "from sklearn.cluster import KMeans\n",
    "import matplotlib.pyplot as plt\n",
    "%matplotlib inline\n",
    "import warnings\n",
    "warnings.filterwarnings('ignore')"
   ]
  },
  {
   "cell_type": "code",
   "execution_count": 2,
   "id": "1f86d267",
   "metadata": {},
   "outputs": [],
   "source": [
    "secrets_file = open(\"secrets.txt\",\"r\")"
   ]
  },
  {
   "cell_type": "code",
   "execution_count": 3,
   "id": "72169be0",
   "metadata": {},
   "outputs": [],
   "source": [
    "string = secrets_file.read()"
   ]
  },
  {
   "cell_type": "code",
   "execution_count": 6,
   "id": "77d84f12",
   "metadata": {},
   "outputs": [],
   "source": [
    "secrets_dict={}\n",
    "for line in string.split('\\n'):\n",
    "    if len(line) > 0:\n",
    "        secrets_dict[line.split(':')[0]]=line.split(':')[1]"
   ]
  },
  {
   "cell_type": "code",
   "execution_count": 8,
   "id": "bccbcf5c",
   "metadata": {},
   "outputs": [],
   "source": [
    "\n",
    "#Initialize SpotiPy with user credentials\n",
    "sp = spotipy.Spotify(auth_manager=SpotifyClientCredentials(client_id=secrets_dict['cid'],\n",
    "                                                           client_secret=secrets_dict['csecret']))"
   ]
  },
  {
   "cell_type": "code",
   "execution_count": 9,
   "id": "3cf4aa0e",
   "metadata": {},
   "outputs": [],
   "source": [
    "from random import randint\n",
    "from time import sleep\n",
    "\n",
    "def get_playlist_tracks(playlist_id):\n",
    "    results = sp.user_playlist_tracks(\"spotify\",playlist_id)\n",
    "    tracks = results['items']\n",
    "    while results['next']!=None:\n",
    "        results = sp.next(results)\n",
    "        tracks = tracks + results['items']\n",
    "        sleep(randint(1,3)) \n",
    "    return tracks"
   ]
  },
  {
   "cell_type": "code",
   "execution_count": 10,
   "id": "ec6c6da9",
   "metadata": {},
   "outputs": [
    {
     "data": {
      "text/plain": [
       "10000"
      ]
     },
     "execution_count": 10,
     "metadata": {},
     "output_type": "execute_result"
    }
   ],
   "source": [
    "# all_tracks = get_playlist_tracks(\"1G8IpkZKobrIlXcVPoSIuf\")\n",
    "# len(all_tracks)"
   ]
  },
  {
   "cell_type": "code",
   "execution_count": 87,
   "id": "1c242d9a",
   "metadata": {},
   "outputs": [
    {
     "data": {
      "text/plain": [
       "'Like a Rolling Stone'"
      ]
     },
     "execution_count": 87,
     "metadata": {},
     "output_type": "execute_result"
    }
   ],
   "source": [
    "all_tracks [0]['track']['name']"
   ]
  },
  {
   "cell_type": "code",
   "execution_count": 49,
   "id": "c1524461",
   "metadata": {},
   "outputs": [
    {
     "data": {
      "text/plain": [
       "'Bob Dylan'"
      ]
     },
     "execution_count": 49,
     "metadata": {},
     "output_type": "execute_result"
    }
   ],
   "source": [
    "all_tracks[0][\"track\"][\"album\"]['artists'][0]['name']"
   ]
  },
  {
   "cell_type": "code",
   "execution_count": 67,
   "id": "1f9f4f43",
   "metadata": {},
   "outputs": [
    {
     "data": {
      "text/plain": [
       "'spotify:track:3ZFBeIyP41HhnALjxWy1pR'"
      ]
     },
     "execution_count": 67,
     "metadata": {},
     "output_type": "execute_result"
    }
   ],
   "source": [
    "all_tracks[2]['track']['uri']"
   ]
  },
  {
   "cell_type": "code",
   "execution_count": 186,
   "id": "706c1d2a",
   "metadata": {},
   "outputs": [
    {
     "data": {
      "text/plain": [
       "{'added_at': '2020-11-29T15:02:07Z',\n",
       " 'added_by': {'external_urls': {'spotify': 'https://open.spotify.com/user/acclaimedmusic'},\n",
       "  'href': 'https://api.spotify.com/v1/users/acclaimedmusic',\n",
       "  'id': 'acclaimedmusic',\n",
       "  'type': 'user',\n",
       "  'uri': 'spotify:user:acclaimedmusic'},\n",
       " 'is_local': False,\n",
       " 'primary_color': None,\n",
       " 'track': None,\n",
       " 'video_thumbnail': {'url': None}}"
      ]
     },
     "execution_count": 186,
     "metadata": {},
     "output_type": "execute_result"
    }
   ],
   "source": [
    "# some of the tracks dont have name, artistname and uri and so when writing the for loop we \n",
    "# to do try and except and put 'none'\n",
    "\n",
    "all_tracks[467]"
   ]
  },
  {
   "cell_type": "code",
   "execution_count": 68,
   "id": "7e336439",
   "metadata": {},
   "outputs": [],
   "source": [
    "song_name = []\n",
    "artist_name = []\n",
    "track_uri = []\n",
    "\n",
    "for i in range(len(all_tracks)):\n",
    "    try:\n",
    "        song = all_tracks[i]['track']['name']\n",
    "        artist = all_tracks[i][\"track\"][\"album\"]['artists'][0]['name']\n",
    "        uri = all_tracks[i]['track']['uri']\n",
    "        \n",
    "        artist_name.append(artist)\n",
    "        song_name.append(song)\n",
    "        track_uri.append(uri)\n",
    "    except:\n",
    "        artist_name.append('none')\n",
    "        song_name.append('none')\n",
    "        track_uri.append('none')"
   ]
  },
  {
   "cell_type": "code",
   "execution_count": 74,
   "id": "88f284d0",
   "metadata": {},
   "outputs": [],
   "source": [
    "# making data frame\n",
    "\n",
    "spotify_df = pd.DataFrame({'song' : song_name,\n",
    "                          'artist': artist_name,\n",
    "                          'uri': track_uri})"
   ]
  },
  {
   "cell_type": "code",
   "execution_count": 88,
   "id": "6dd337be",
   "metadata": {},
   "outputs": [
    {
     "data": {
      "text/html": [
       "<div>\n",
       "<style scoped>\n",
       "    .dataframe tbody tr th:only-of-type {\n",
       "        vertical-align: middle;\n",
       "    }\n",
       "\n",
       "    .dataframe tbody tr th {\n",
       "        vertical-align: top;\n",
       "    }\n",
       "\n",
       "    .dataframe thead th {\n",
       "        text-align: right;\n",
       "    }\n",
       "</style>\n",
       "<table border=\"1\" class=\"dataframe\">\n",
       "  <thead>\n",
       "    <tr style=\"text-align: right;\">\n",
       "      <th></th>\n",
       "      <th>song</th>\n",
       "      <th>artist</th>\n",
       "      <th>uri</th>\n",
       "    </tr>\n",
       "  </thead>\n",
       "  <tbody>\n",
       "    <tr>\n",
       "      <th>0</th>\n",
       "      <td>Like a Rolling Stone</td>\n",
       "      <td>Bob Dylan</td>\n",
       "      <td>spotify:track:3AhXZa8sUQht0UEdBJgpGc</td>\n",
       "    </tr>\n",
       "    <tr>\n",
       "      <th>1</th>\n",
       "      <td>Smells Like Teen Spirit</td>\n",
       "      <td>Nirvana</td>\n",
       "      <td>spotify:track:3oTlkzk1OtrhH8wBAduVEi</td>\n",
       "    </tr>\n",
       "    <tr>\n",
       "      <th>2</th>\n",
       "      <td>A Day In The Life - Remastered</td>\n",
       "      <td>The Beatles</td>\n",
       "      <td>spotify:track:3ZFBeIyP41HhnALjxWy1pR</td>\n",
       "    </tr>\n",
       "    <tr>\n",
       "      <th>3</th>\n",
       "      <td>Good Vibrations (Mono)</td>\n",
       "      <td>The Beach Boys</td>\n",
       "      <td>spotify:track:5Qt4Cc66g24QWwGP3YYV9y</td>\n",
       "    </tr>\n",
       "    <tr>\n",
       "      <th>4</th>\n",
       "      <td>Johnny B Goode</td>\n",
       "      <td>Chuck Berry</td>\n",
       "      <td>spotify:track:7MH2ZclofPlTrZOkPzZKhK</td>\n",
       "    </tr>\n",
       "  </tbody>\n",
       "</table>\n",
       "</div>"
      ],
      "text/plain": [
       "                             song          artist  \\\n",
       "0            Like a Rolling Stone       Bob Dylan   \n",
       "1         Smells Like Teen Spirit         Nirvana   \n",
       "2  A Day In The Life - Remastered     The Beatles   \n",
       "3          Good Vibrations (Mono)  The Beach Boys   \n",
       "4                  Johnny B Goode     Chuck Berry   \n",
       "\n",
       "                                    uri  \n",
       "0  spotify:track:3AhXZa8sUQht0UEdBJgpGc  \n",
       "1  spotify:track:3oTlkzk1OtrhH8wBAduVEi  \n",
       "2  spotify:track:3ZFBeIyP41HhnALjxWy1pR  \n",
       "3  spotify:track:5Qt4Cc66g24QWwGP3YYV9y  \n",
       "4  spotify:track:7MH2ZclofPlTrZOkPzZKhK  "
      ]
     },
     "execution_count": 88,
     "metadata": {},
     "output_type": "execute_result"
    }
   ],
   "source": [
    "spotify_df.head()"
   ]
  },
  {
   "cell_type": "code",
   "execution_count": 90,
   "id": "13ae3ccd",
   "metadata": {},
   "outputs": [
    {
     "data": {
      "text/plain": [
       "none                                           53\n",
       "Summertime                                      6\n",
       "Crazy                                           4\n",
       "Fire                                            4\n",
       "Girlfriend                                      4\n",
       "                                               ..\n",
       "First Time I Met The Blues - Single Version     1\n",
       "Complete Control                                1\n",
       "Don't You Know?                                 1\n",
       "Ten Cents a Dance                               1\n",
       "The Man Machine - 2009 Remaster                 1\n",
       "Name: song, Length: 9641, dtype: int64"
      ]
     },
     "execution_count": 90,
     "metadata": {},
     "output_type": "execute_result"
    }
   ],
   "source": [
    "spotify_df.song.value_counts() # 53 songs have no name"
   ]
  },
  {
   "cell_type": "code",
   "execution_count": 147,
   "id": "63029289",
   "metadata": {
    "scrolled": true
   },
   "outputs": [],
   "source": [
    "spotify_df = spotify_df[spotify_df.song != 'none'] # removing all the rows that have 'none'"
   ]
  },
  {
   "cell_type": "code",
   "execution_count": 167,
   "id": "0044d29a",
   "metadata": {},
   "outputs": [
    {
     "data": {
      "text/plain": [
       "(9947, 4)"
      ]
     },
     "execution_count": 167,
     "metadata": {},
     "output_type": "execute_result"
    }
   ],
   "source": [
    "spotify_df.shape"
   ]
  },
  {
   "cell_type": "code",
   "execution_count": 166,
   "id": "39554bb3",
   "metadata": {},
   "outputs": [],
   "source": [
    "# since we removed all the values that had 'none' we need to reset index\n",
    "\n",
    "spotify_df.reset_index(inplace=True)  "
   ]
  },
  {
   "cell_type": "code",
   "execution_count": 172,
   "id": "a278a9ce",
   "metadata": {},
   "outputs": [],
   "source": [
    "spotify_df.drop('index', axis=1, inplace=True) # drop extra index column created after reset_index"
   ]
  },
  {
   "cell_type": "code",
   "execution_count": 173,
   "id": "1e608ca0",
   "metadata": {},
   "outputs": [
    {
     "data": {
      "text/html": [
       "<div>\n",
       "<style scoped>\n",
       "    .dataframe tbody tr th:only-of-type {\n",
       "        vertical-align: middle;\n",
       "    }\n",
       "\n",
       "    .dataframe tbody tr th {\n",
       "        vertical-align: top;\n",
       "    }\n",
       "\n",
       "    .dataframe thead th {\n",
       "        text-align: right;\n",
       "    }\n",
       "</style>\n",
       "<table border=\"1\" class=\"dataframe\">\n",
       "  <thead>\n",
       "    <tr style=\"text-align: right;\">\n",
       "      <th></th>\n",
       "      <th>song</th>\n",
       "      <th>artist</th>\n",
       "      <th>uri</th>\n",
       "    </tr>\n",
       "  </thead>\n",
       "  <tbody>\n",
       "    <tr>\n",
       "      <th>0</th>\n",
       "      <td>Like a Rolling Stone</td>\n",
       "      <td>Bob Dylan</td>\n",
       "      <td>spotify:track:3AhXZa8sUQht0UEdBJgpGc</td>\n",
       "    </tr>\n",
       "    <tr>\n",
       "      <th>1</th>\n",
       "      <td>Smells Like Teen Spirit</td>\n",
       "      <td>Nirvana</td>\n",
       "      <td>spotify:track:3oTlkzk1OtrhH8wBAduVEi</td>\n",
       "    </tr>\n",
       "    <tr>\n",
       "      <th>2</th>\n",
       "      <td>A Day In The Life - Remastered</td>\n",
       "      <td>The Beatles</td>\n",
       "      <td>spotify:track:3ZFBeIyP41HhnALjxWy1pR</td>\n",
       "    </tr>\n",
       "    <tr>\n",
       "      <th>3</th>\n",
       "      <td>Good Vibrations (Mono)</td>\n",
       "      <td>The Beach Boys</td>\n",
       "      <td>spotify:track:5Qt4Cc66g24QWwGP3YYV9y</td>\n",
       "    </tr>\n",
       "    <tr>\n",
       "      <th>4</th>\n",
       "      <td>Johnny B Goode</td>\n",
       "      <td>Chuck Berry</td>\n",
       "      <td>spotify:track:7MH2ZclofPlTrZOkPzZKhK</td>\n",
       "    </tr>\n",
       "  </tbody>\n",
       "</table>\n",
       "</div>"
      ],
      "text/plain": [
       "                             song          artist  \\\n",
       "0            Like a Rolling Stone       Bob Dylan   \n",
       "1         Smells Like Teen Spirit         Nirvana   \n",
       "2  A Day In The Life - Remastered     The Beatles   \n",
       "3          Good Vibrations (Mono)  The Beach Boys   \n",
       "4                  Johnny B Goode     Chuck Berry   \n",
       "\n",
       "                                    uri  \n",
       "0  spotify:track:3AhXZa8sUQht0UEdBJgpGc  \n",
       "1  spotify:track:3oTlkzk1OtrhH8wBAduVEi  \n",
       "2  spotify:track:3ZFBeIyP41HhnALjxWy1pR  \n",
       "3  spotify:track:5Qt4Cc66g24QWwGP3YYV9y  \n",
       "4  spotify:track:7MH2ZclofPlTrZOkPzZKhK  "
      ]
     },
     "execution_count": 173,
     "metadata": {},
     "output_type": "execute_result"
    }
   ],
   "source": [
    "spotify_df.head()"
   ]
  },
  {
   "cell_type": "markdown",
   "id": "8f01e9e2",
   "metadata": {},
   "source": [
    "# Audio Features"
   ]
  },
  {
   "cell_type": "code",
   "execution_count": 98,
   "id": "c984308d",
   "metadata": {},
   "outputs": [
    {
     "data": {
      "text/plain": [
       "[{'danceability': 0.485,\n",
       "  'energy': 0.863,\n",
       "  'key': 1,\n",
       "  'loudness': -9.027,\n",
       "  'mode': 1,\n",
       "  'speechiness': 0.0495,\n",
       "  'acousticness': 1.22e-05,\n",
       "  'instrumentalness': 0.0162,\n",
       "  'liveness': 0.138,\n",
       "  'valence': 0.767,\n",
       "  'tempo': 116.835,\n",
       "  'type': 'audio_features',\n",
       "  'id': '3oTlkzk1OtrhH8wBAduVEi',\n",
       "  'uri': 'spotify:track:3oTlkzk1OtrhH8wBAduVEi',\n",
       "  'track_href': 'https://api.spotify.com/v1/tracks/3oTlkzk1OtrhH8wBAduVEi',\n",
       "  'analysis_url': 'https://api.spotify.com/v1/audio-analysis/3oTlkzk1OtrhH8wBAduVEi',\n",
       "  'duration_ms': 300977,\n",
       "  'time_signature': 4}]"
      ]
     },
     "execution_count": 98,
     "metadata": {},
     "output_type": "execute_result"
    }
   ],
   "source": [
    "sp.audio_features(track_uri[1])"
   ]
  },
  {
   "cell_type": "code",
   "execution_count": 107,
   "id": "21182657",
   "metadata": {},
   "outputs": [],
   "source": [
    "# collecting all the audiofeatures in a list\n",
    "# commenting this code to prevent running the spotify api\n",
    "\n",
    "# audio_features = []\n",
    "# counter = 0  # setting a counter so that we can stop the code for 10 seconds when counter is 100\n",
    "\n",
    "# for item in track_uri:\n",
    "#     features = sp.audio_features(item)\n",
    "#     audio_features.append(features)\n",
    "\n",
    "#     counter = counter + 1\n",
    "    \n",
    "#     if counter % 100 == 0:\n",
    "#         sleep(10)\n"
   ]
  },
  {
   "cell_type": "code",
   "execution_count": 184,
   "id": "60085a25",
   "metadata": {},
   "outputs": [
    {
     "data": {
      "text/plain": [
       "True"
      ]
     },
     "execution_count": 184,
     "metadata": {},
     "output_type": "execute_result"
    }
   ],
   "source": [
    "[None] in audio_features # some of the audiofeatures have [None] because there was no trackuri"
   ]
  },
  {
   "cell_type": "code",
   "execution_count": 176,
   "id": "c72e3e4e",
   "metadata": {},
   "outputs": [],
   "source": [
    "danceability = []\n",
    "energy = []\n",
    "loudness = []\n",
    "speechiness = []\n",
    "acousticness = []\n",
    "instrumentalness = []\n",
    "liveness = []\n",
    "valence = []\n",
    "tempo = []\n",
    "\n",
    "\n",
    "for i in range(len(audio_features)):\n",
    "    #making sure we only run the for loop when it is not [None]\n",
    "    if audio_features[i] != [None]:  \n",
    "        danceability.append(audio_features[i][0]['danceability'])\n",
    "        energy.append(audio_features[i][0]['energy'])\n",
    "        loudness.append(audio_features[i][0]['loudness'])\n",
    "        speechiness.append(audio_features[i][0]['speechiness'])\n",
    "        acousticness.append(audio_features[i][0]['acousticness'])\n",
    "        instrumentalness.append(audio_features[i][0]['instrumentalness'])\n",
    "        liveness.append(audio_features[i][0]['liveness'])\n",
    "        valence.append(audio_features[i][0]['valence'])\n",
    "        tempo.append(audio_features[i][0]['tempo'])\n"
   ]
  },
  {
   "cell_type": "code",
   "execution_count": 177,
   "id": "ce324719",
   "metadata": {},
   "outputs": [],
   "source": [
    "spotify_af = pd.DataFrame({'danceability' : danceability,\n",
    "                          'energy': energy,\n",
    "                          'loudness': loudness,\n",
    "                          'speechiness': speechiness,\n",
    "                           'acousticness': acousticness,\n",
    "                           'instrumentalness': instrumentalness,\n",
    "                           'liveness': liveness,\n",
    "                           'valence': valence,\n",
    "                           'tempo': tempo\n",
    "                          })"
   ]
  },
  {
   "cell_type": "code",
   "execution_count": 178,
   "id": "bb834f3f",
   "metadata": {},
   "outputs": [
    {
     "data": {
      "text/html": [
       "<div>\n",
       "<style scoped>\n",
       "    .dataframe tbody tr th:only-of-type {\n",
       "        vertical-align: middle;\n",
       "    }\n",
       "\n",
       "    .dataframe tbody tr th {\n",
       "        vertical-align: top;\n",
       "    }\n",
       "\n",
       "    .dataframe thead th {\n",
       "        text-align: right;\n",
       "    }\n",
       "</style>\n",
       "<table border=\"1\" class=\"dataframe\">\n",
       "  <thead>\n",
       "    <tr style=\"text-align: right;\">\n",
       "      <th></th>\n",
       "      <th>danceability</th>\n",
       "      <th>energy</th>\n",
       "      <th>loudness</th>\n",
       "      <th>speechiness</th>\n",
       "      <th>acousticness</th>\n",
       "      <th>instrumentalness</th>\n",
       "      <th>liveness</th>\n",
       "      <th>valence</th>\n",
       "      <th>tempo</th>\n",
       "    </tr>\n",
       "  </thead>\n",
       "  <tbody>\n",
       "    <tr>\n",
       "      <th>0</th>\n",
       "      <td>0.482</td>\n",
       "      <td>0.721</td>\n",
       "      <td>-6.839</td>\n",
       "      <td>0.0321</td>\n",
       "      <td>0.731000</td>\n",
       "      <td>0.000000</td>\n",
       "      <td>0.1890</td>\n",
       "      <td>0.557</td>\n",
       "      <td>95.263</td>\n",
       "    </tr>\n",
       "    <tr>\n",
       "      <th>1</th>\n",
       "      <td>0.485</td>\n",
       "      <td>0.863</td>\n",
       "      <td>-9.027</td>\n",
       "      <td>0.0495</td>\n",
       "      <td>0.000012</td>\n",
       "      <td>0.016200</td>\n",
       "      <td>0.1380</td>\n",
       "      <td>0.767</td>\n",
       "      <td>116.835</td>\n",
       "    </tr>\n",
       "    <tr>\n",
       "      <th>2</th>\n",
       "      <td>0.364</td>\n",
       "      <td>0.457</td>\n",
       "      <td>-14.162</td>\n",
       "      <td>0.0675</td>\n",
       "      <td>0.290000</td>\n",
       "      <td>0.000106</td>\n",
       "      <td>0.9220</td>\n",
       "      <td>0.175</td>\n",
       "      <td>163.219</td>\n",
       "    </tr>\n",
       "    <tr>\n",
       "      <th>3</th>\n",
       "      <td>0.398</td>\n",
       "      <td>0.413</td>\n",
       "      <td>-10.934</td>\n",
       "      <td>0.0388</td>\n",
       "      <td>0.082200</td>\n",
       "      <td>0.000025</td>\n",
       "      <td>0.0891</td>\n",
       "      <td>0.331</td>\n",
       "      <td>133.574</td>\n",
       "    </tr>\n",
       "    <tr>\n",
       "      <th>4</th>\n",
       "      <td>0.518</td>\n",
       "      <td>0.756</td>\n",
       "      <td>-10.851</td>\n",
       "      <td>0.0915</td>\n",
       "      <td>0.735000</td>\n",
       "      <td>0.000062</td>\n",
       "      <td>0.3170</td>\n",
       "      <td>0.968</td>\n",
       "      <td>166.429</td>\n",
       "    </tr>\n",
       "    <tr>\n",
       "      <th>...</th>\n",
       "      <td>...</td>\n",
       "      <td>...</td>\n",
       "      <td>...</td>\n",
       "      <td>...</td>\n",
       "      <td>...</td>\n",
       "      <td>...</td>\n",
       "      <td>...</td>\n",
       "      <td>...</td>\n",
       "      <td>...</td>\n",
       "    </tr>\n",
       "    <tr>\n",
       "      <th>9942</th>\n",
       "      <td>0.332</td>\n",
       "      <td>0.707</td>\n",
       "      <td>-12.698</td>\n",
       "      <td>0.0361</td>\n",
       "      <td>0.000012</td>\n",
       "      <td>0.006120</td>\n",
       "      <td>0.1100</td>\n",
       "      <td>0.652</td>\n",
       "      <td>144.815</td>\n",
       "    </tr>\n",
       "    <tr>\n",
       "      <th>9943</th>\n",
       "      <td>0.464</td>\n",
       "      <td>0.749</td>\n",
       "      <td>-8.564</td>\n",
       "      <td>0.4800</td>\n",
       "      <td>0.224000</td>\n",
       "      <td>0.000046</td>\n",
       "      <td>0.3510</td>\n",
       "      <td>0.879</td>\n",
       "      <td>181.121</td>\n",
       "    </tr>\n",
       "    <tr>\n",
       "      <th>9944</th>\n",
       "      <td>0.694</td>\n",
       "      <td>0.710</td>\n",
       "      <td>-9.793</td>\n",
       "      <td>0.3400</td>\n",
       "      <td>0.527000</td>\n",
       "      <td>0.001350</td>\n",
       "      <td>0.0697</td>\n",
       "      <td>0.415</td>\n",
       "      <td>119.964</td>\n",
       "    </tr>\n",
       "    <tr>\n",
       "      <th>9945</th>\n",
       "      <td>0.332</td>\n",
       "      <td>0.800</td>\n",
       "      <td>-9.746</td>\n",
       "      <td>0.0326</td>\n",
       "      <td>0.000368</td>\n",
       "      <td>0.001600</td>\n",
       "      <td>0.0850</td>\n",
       "      <td>0.832</td>\n",
       "      <td>149.240</td>\n",
       "    </tr>\n",
       "    <tr>\n",
       "      <th>9946</th>\n",
       "      <td>0.499</td>\n",
       "      <td>0.763</td>\n",
       "      <td>-11.617</td>\n",
       "      <td>0.0704</td>\n",
       "      <td>0.244000</td>\n",
       "      <td>0.000014</td>\n",
       "      <td>0.0828</td>\n",
       "      <td>0.895</td>\n",
       "      <td>152.677</td>\n",
       "    </tr>\n",
       "  </tbody>\n",
       "</table>\n",
       "<p>9947 rows × 9 columns</p>\n",
       "</div>"
      ],
      "text/plain": [
       "      danceability  energy  loudness  speechiness  acousticness  \\\n",
       "0            0.482   0.721    -6.839       0.0321      0.731000   \n",
       "1            0.485   0.863    -9.027       0.0495      0.000012   \n",
       "2            0.364   0.457   -14.162       0.0675      0.290000   \n",
       "3            0.398   0.413   -10.934       0.0388      0.082200   \n",
       "4            0.518   0.756   -10.851       0.0915      0.735000   \n",
       "...            ...     ...       ...          ...           ...   \n",
       "9942         0.332   0.707   -12.698       0.0361      0.000012   \n",
       "9943         0.464   0.749    -8.564       0.4800      0.224000   \n",
       "9944         0.694   0.710    -9.793       0.3400      0.527000   \n",
       "9945         0.332   0.800    -9.746       0.0326      0.000368   \n",
       "9946         0.499   0.763   -11.617       0.0704      0.244000   \n",
       "\n",
       "      instrumentalness  liveness  valence    tempo  \n",
       "0             0.000000    0.1890    0.557   95.263  \n",
       "1             0.016200    0.1380    0.767  116.835  \n",
       "2             0.000106    0.9220    0.175  163.219  \n",
       "3             0.000025    0.0891    0.331  133.574  \n",
       "4             0.000062    0.3170    0.968  166.429  \n",
       "...                ...       ...      ...      ...  \n",
       "9942          0.006120    0.1100    0.652  144.815  \n",
       "9943          0.000046    0.3510    0.879  181.121  \n",
       "9944          0.001350    0.0697    0.415  119.964  \n",
       "9945          0.001600    0.0850    0.832  149.240  \n",
       "9946          0.000014    0.0828    0.895  152.677  \n",
       "\n",
       "[9947 rows x 9 columns]"
      ]
     },
     "execution_count": 178,
     "metadata": {},
     "output_type": "execute_result"
    }
   ],
   "source": [
    "spotify_af"
   ]
  },
  {
   "cell_type": "code",
   "execution_count": 179,
   "id": "d35fec33",
   "metadata": {},
   "outputs": [],
   "source": [
    "spotify_final = pd.concat([spotify_df, spotify_af], axis=1)"
   ]
  },
  {
   "cell_type": "code",
   "execution_count": 181,
   "id": "e9224466",
   "metadata": {},
   "outputs": [
    {
     "data": {
      "text/html": [
       "<div>\n",
       "<style scoped>\n",
       "    .dataframe tbody tr th:only-of-type {\n",
       "        vertical-align: middle;\n",
       "    }\n",
       "\n",
       "    .dataframe tbody tr th {\n",
       "        vertical-align: top;\n",
       "    }\n",
       "\n",
       "    .dataframe thead th {\n",
       "        text-align: right;\n",
       "    }\n",
       "</style>\n",
       "<table border=\"1\" class=\"dataframe\">\n",
       "  <thead>\n",
       "    <tr style=\"text-align: right;\">\n",
       "      <th></th>\n",
       "      <th>song</th>\n",
       "      <th>artist</th>\n",
       "      <th>uri</th>\n",
       "      <th>danceability</th>\n",
       "      <th>energy</th>\n",
       "      <th>loudness</th>\n",
       "      <th>speechiness</th>\n",
       "      <th>acousticness</th>\n",
       "      <th>instrumentalness</th>\n",
       "      <th>liveness</th>\n",
       "      <th>valence</th>\n",
       "      <th>tempo</th>\n",
       "    </tr>\n",
       "  </thead>\n",
       "  <tbody>\n",
       "    <tr>\n",
       "      <th>0</th>\n",
       "      <td>Like a Rolling Stone</td>\n",
       "      <td>Bob Dylan</td>\n",
       "      <td>spotify:track:3AhXZa8sUQht0UEdBJgpGc</td>\n",
       "      <td>0.482</td>\n",
       "      <td>0.721</td>\n",
       "      <td>-6.839</td>\n",
       "      <td>0.0321</td>\n",
       "      <td>0.731000</td>\n",
       "      <td>0.000000</td>\n",
       "      <td>0.1890</td>\n",
       "      <td>0.557</td>\n",
       "      <td>95.263</td>\n",
       "    </tr>\n",
       "    <tr>\n",
       "      <th>1</th>\n",
       "      <td>Smells Like Teen Spirit</td>\n",
       "      <td>Nirvana</td>\n",
       "      <td>spotify:track:3oTlkzk1OtrhH8wBAduVEi</td>\n",
       "      <td>0.485</td>\n",
       "      <td>0.863</td>\n",
       "      <td>-9.027</td>\n",
       "      <td>0.0495</td>\n",
       "      <td>0.000012</td>\n",
       "      <td>0.016200</td>\n",
       "      <td>0.1380</td>\n",
       "      <td>0.767</td>\n",
       "      <td>116.835</td>\n",
       "    </tr>\n",
       "    <tr>\n",
       "      <th>2</th>\n",
       "      <td>A Day In The Life - Remastered</td>\n",
       "      <td>The Beatles</td>\n",
       "      <td>spotify:track:3ZFBeIyP41HhnALjxWy1pR</td>\n",
       "      <td>0.364</td>\n",
       "      <td>0.457</td>\n",
       "      <td>-14.162</td>\n",
       "      <td>0.0675</td>\n",
       "      <td>0.290000</td>\n",
       "      <td>0.000106</td>\n",
       "      <td>0.9220</td>\n",
       "      <td>0.175</td>\n",
       "      <td>163.219</td>\n",
       "    </tr>\n",
       "    <tr>\n",
       "      <th>3</th>\n",
       "      <td>Good Vibrations (Mono)</td>\n",
       "      <td>The Beach Boys</td>\n",
       "      <td>spotify:track:5Qt4Cc66g24QWwGP3YYV9y</td>\n",
       "      <td>0.398</td>\n",
       "      <td>0.413</td>\n",
       "      <td>-10.934</td>\n",
       "      <td>0.0388</td>\n",
       "      <td>0.082200</td>\n",
       "      <td>0.000025</td>\n",
       "      <td>0.0891</td>\n",
       "      <td>0.331</td>\n",
       "      <td>133.574</td>\n",
       "    </tr>\n",
       "    <tr>\n",
       "      <th>4</th>\n",
       "      <td>Johnny B Goode</td>\n",
       "      <td>Chuck Berry</td>\n",
       "      <td>spotify:track:7MH2ZclofPlTrZOkPzZKhK</td>\n",
       "      <td>0.518</td>\n",
       "      <td>0.756</td>\n",
       "      <td>-10.851</td>\n",
       "      <td>0.0915</td>\n",
       "      <td>0.735000</td>\n",
       "      <td>0.000062</td>\n",
       "      <td>0.3170</td>\n",
       "      <td>0.968</td>\n",
       "      <td>166.429</td>\n",
       "    </tr>\n",
       "  </tbody>\n",
       "</table>\n",
       "</div>"
      ],
      "text/plain": [
       "                             song          artist  \\\n",
       "0            Like a Rolling Stone       Bob Dylan   \n",
       "1         Smells Like Teen Spirit         Nirvana   \n",
       "2  A Day In The Life - Remastered     The Beatles   \n",
       "3          Good Vibrations (Mono)  The Beach Boys   \n",
       "4                  Johnny B Goode     Chuck Berry   \n",
       "\n",
       "                                    uri  danceability  energy  loudness  \\\n",
       "0  spotify:track:3AhXZa8sUQht0UEdBJgpGc         0.482   0.721    -6.839   \n",
       "1  spotify:track:3oTlkzk1OtrhH8wBAduVEi         0.485   0.863    -9.027   \n",
       "2  spotify:track:3ZFBeIyP41HhnALjxWy1pR         0.364   0.457   -14.162   \n",
       "3  spotify:track:5Qt4Cc66g24QWwGP3YYV9y         0.398   0.413   -10.934   \n",
       "4  spotify:track:7MH2ZclofPlTrZOkPzZKhK         0.518   0.756   -10.851   \n",
       "\n",
       "   speechiness  acousticness  instrumentalness  liveness  valence    tempo  \n",
       "0       0.0321      0.731000          0.000000    0.1890    0.557   95.263  \n",
       "1       0.0495      0.000012          0.016200    0.1380    0.767  116.835  \n",
       "2       0.0675      0.290000          0.000106    0.9220    0.175  163.219  \n",
       "3       0.0388      0.082200          0.000025    0.0891    0.331  133.574  \n",
       "4       0.0915      0.735000          0.000062    0.3170    0.968  166.429  "
      ]
     },
     "execution_count": 181,
     "metadata": {},
     "output_type": "execute_result"
    }
   ],
   "source": [
    "spotify_final.head()"
   ]
  },
  {
   "cell_type": "code",
   "execution_count": 182,
   "id": "1e97a5b3",
   "metadata": {},
   "outputs": [],
   "source": [
    "spotify_final.to_csv('spotify_final.csv')"
   ]
  }
 ],
 "metadata": {
  "kernelspec": {
   "display_name": "Python 3 (ipykernel)",
   "language": "python",
   "name": "python3"
  },
  "language_info": {
   "codemirror_mode": {
    "name": "ipython",
    "version": 3
   },
   "file_extension": ".py",
   "mimetype": "text/x-python",
   "name": "python",
   "nbconvert_exporter": "python",
   "pygments_lexer": "ipython3",
   "version": "3.8.13"
  }
 },
 "nbformat": 4,
 "nbformat_minor": 5
}
